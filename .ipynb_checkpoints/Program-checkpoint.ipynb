{
 "cells": [
  {
   "cell_type": "code",
   "execution_count": 1,
   "metadata": {},
   "outputs": [],
   "source": [
    "import numpy as np\n",
    "import pandas as pd\n",
    "from sklearn.ensemble import RandomForestClassifier\n",
    "from sklearn.model_selection import train_test_split\n",
    "import matplotlib.pyplot as plt\n",
    "from sklearn.preprocessing import StandardScaler"
   ]
  },
  {
   "cell_type": "code",
   "execution_count": 2,
   "metadata": {},
   "outputs": [],
   "source": [
    "def confusion_matrix(test, pred):\n",
    "    ss = []\n",
    "    tp=0\n",
    "    fp=0\n",
    "    tn=0\n",
    "    fn=0\n",
    "    for i in range (len(test)):\n",
    "        if (test[i] == [1]) and (pred[i] == [1]):\n",
    "            tp=tp+1\n",
    "        elif (test[i] == [1]) and (pred[i]== [0]):\n",
    "            fp=fp+1\n",
    "        elif (test[i] == [0]) and (pred[i]== [1]):\n",
    "            fn=fn+1\n",
    "        elif (test[i] == [0]) and (pred[i]== [0]):\n",
    "            tn=tn+1\n",
    "    \n",
    "    accuracy = (tp+tn)/(tp+tn+fp+fn)\n",
    "    recall = tp/(tp+fn)\n",
    "    precision = tp/(tp+fp)\n",
    "    F1 = 2*(precision*recall)/(precision+recall)\n",
    "    return tp, fp, tn, fn, accuracy, recall, precision, F1"
   ]
  },
  {
   "cell_type": "code",
   "execution_count": null,
   "metadata": {},
   "outputs": [],
   "source": []
  }
 ],
 "metadata": {
  "kernelspec": {
   "display_name": "Python 3",
   "language": "python",
   "name": "python3"
  },
  "language_info": {
   "codemirror_mode": {
    "name": "ipython",
    "version": 3
   },
   "file_extension": ".py",
   "mimetype": "text/x-python",
   "name": "python",
   "nbconvert_exporter": "python",
   "pygments_lexer": "ipython3",
   "version": "3.7.4"
  }
 },
 "nbformat": 4,
 "nbformat_minor": 4
}
